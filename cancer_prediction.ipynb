{
  "nbformat": 4,
  "nbformat_minor": 0,
  "metadata": {
    "colab": {
      "name": "cancer_prediction.ipynb",
      "provenance": [],
      "collapsed_sections": []
    },
    "kernelspec": {
      "name": "python3",
      "display_name": "Python 3"
    }
  },
  "cells": [
    {
      "cell_type": "code",
      "metadata": {
        "id": "ci_k3tYjBfo7"
      },
      "source": [
        "import pandas as pd \n",
        "import numpy as np\n",
        "import matplotlib.pyplot as plt\n",
        "from sklearn.model_selection import RandomizedSearchCV"
      ],
      "execution_count": 3,
      "outputs": []
    },
    {
      "cell_type": "code",
      "metadata": {
        "id": "WPQsupB2AXpU",
        "outputId": "e9a83c7a-4aa5-40a6-91f2-1a60fa2bab80",
        "colab": {
          "resources": {
            "http://localhost:8080/nbextensions/google.colab/files.js": {
              "data": "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",
              "ok": true,
              "headers": [
                [
                  "content-type",
                  "application/javascript"
                ]
              ],
              "status": 200,
              "status_text": ""
            }
          },
          "base_uri": "https://localhost:8080/",
          "height": 109
        }
      },
      "source": [
        "from google.colab import files\n",
        "files.upload()"
      ],
      "execution_count": 2,
      "outputs": [
        {
          "output_type": "display_data",
          "data": {
            "text/html": [
              "\n",
              "     <input type=\"file\" id=\"files-5a9a686f-080f-46e0-b9ab-eef1126c6f5f\" name=\"files[]\" multiple disabled\n",
              "        style=\"border:none\" />\n",
              "     <output id=\"result-5a9a686f-080f-46e0-b9ab-eef1126c6f5f\">\n",
              "      Upload widget is only available when the cell has been executed in the\n",
              "      current browser session. Please rerun this cell to enable.\n",
              "      </output>\n",
              "      <script src=\"/nbextensions/google.colab/files.js\"></script> "
            ],
            "text/plain": [
              "<IPython.core.display.HTML object>"
            ]
          },
          "metadata": {
            "tags": []
          }
        },
        {
          "output_type": "stream",
          "text": [
            "Saving mammographic_masses.data to mammographic_masses.data\n"
          ],
          "name": "stdout"
        },
        {
          "output_type": "execute_result",
          "data": {
            "text/plain": [
              "{'mammographic_masses.data': b'5,67,3,5,3,1\\r\\n4,43,1,1,?,1\\r\\n5,58,4,5,3,1\\r\\n4,28,1,1,3,0\\r\\n5,74,1,5,?,1\\r\\n4,65,1,?,3,0\\r\\n4,70,?,?,3,0\\r\\n5,42,1,?,3,0\\r\\n5,57,1,5,3,1\\r\\n5,60,?,5,1,1\\r\\n5,76,1,4,3,1\\r\\n3,42,2,1,3,1\\r\\n4,64,1,?,3,0\\r\\n4,36,3,1,2,0\\r\\n4,60,2,1,2,0\\r\\n4,54,1,1,3,0\\r\\n3,52,3,4,3,0\\r\\n4,59,2,1,3,1\\r\\n4,54,1,1,3,1\\r\\n4,40,1,?,?,0\\r\\n?,66,?,?,1,1\\r\\n5,56,4,3,1,1\\r\\n4,43,1,?,?,0\\r\\n5,42,4,4,3,1\\r\\n4,59,2,4,3,1\\r\\n5,75,4,5,3,1\\r\\n2,66,1,1,?,0\\r\\n5,63,3,?,3,0\\r\\n5,45,4,5,3,1\\r\\n5,55,4,4,3,0\\r\\n4,46,1,5,2,0\\r\\n5,54,4,4,3,1\\r\\n5,57,4,4,3,1\\r\\n4,39,1,1,2,0\\r\\n4,81,1,1,3,0\\r\\n4,77,3,?,?,0\\r\\n4,60,2,1,3,0\\r\\n5,67,3,4,2,1\\r\\n4,48,4,5,?,1\\r\\n4,55,3,4,2,0\\r\\n4,59,2,1,?,0\\r\\n4,78,1,1,1,0\\r\\n4,50,1,1,3,0\\r\\n4,61,2,1,?,0\\r\\n5,62,3,5,2,1\\r\\n5,44,2,4,?,1\\r\\n5,64,4,5,3,1\\r\\n4,23,1,1,?,0\\r\\n2,42,?,?,4,0\\r\\n5,67,4,5,3,1\\r\\n4,74,2,1,2,0\\r\\n5,80,3,5,3,1\\r\\n4,23,1,1,?,0\\r\\n4,63,2,1,?,0\\r\\n4,53,?,5,3,1\\r\\n4,43,3,4,?,0\\r\\n4,49,2,1,1,0\\r\\n5,51,2,4,?,0\\r\\n4,45,2,1,?,0\\r\\n5,59,2,?,?,1\\r\\n5,52,4,3,3,1\\r\\n5,60,4,3,3,1\\r\\n4,57,2,5,3,0\\r\\n3,57,2,1,?,0\\r\\n5,74,4,4,3,1\\r\\n4,25,2,1,?,0\\r\\n4,49,1,1,3,0\\r\\n5,72,4,3,?,1\\r\\n4,45,2,1,3,0\\r\\n4,64,2,1,3,0\\r\\n4,73,2,1,2,0\\r\\n5,68,4,3,3,1\\r\\n5,52,4,5,3,0\\r\\n5,66,4,4,3,1\\r\\n5,70,?,4,?,1\\r\\n4,25,1,1,3,0\\r\\n5,74,1,1,2,1\\r\\n4,64,1,1,3,0\\r\\n5,60,4,3,2,1\\r\\n5,67,2,4,1,0\\r\\n4,67,4,5,3,0\\r\\n5,44,4,4,2,1\\r\\n3,68,1,1,3,1\\r\\n4,57,?,4,1,0\\r\\n5,51,4,?,?,1\\r\\n4,33,1,?,?,0\\r\\n5,58,4,4,3,1\\r\\n5,36,1,?,?,0\\r\\n4,63,1,1,?,0\\r\\n5,62,1,5,3,1\\r\\n4,73,3,4,3,1\\r\\n4,80,4,4,3,1\\r\\n4,67,1,1,?,0\\r\\n5,59,2,1,3,1\\r\\n5,60,1,?,3,0\\r\\n5,54,4,4,3,1\\r\\n4,40,1,1,?,0\\r\\n4,47,2,1,?,0\\r\\n5,62,4,4,3,0\\r\\n4,33,2,1,3,0\\r\\n5,59,2,?,?,0\\r\\n4,65,2,?,?,0\\r\\n4,58,4,4,?,0\\r\\n4,29,2,?,?,0\\r\\n4,58,1,1,?,0\\r\\n4,54,1,1,?,0\\r\\n4,44,1,1,?,1\\r\\n3,34,2,1,?,0\\r\\n4,57,1,1,3,0\\r\\n5,33,4,4,?,1\\r\\n4,45,4,4,3,0\\r\\n5,71,4,4,3,1\\r\\n5,59,4,4,2,0\\r\\n4,56,2,1,?,0\\r\\n4,40,3,4,?,0\\r\\n4,56,1,1,3,0\\r\\n4,45,2,1,?,0\\r\\n4,57,2,1,2,0\\r\\n5,55,3,4,3,1\\r\\n5,84,4,5,3,0\\r\\n5,51,4,4,3,1\\r\\n4,43,1,1,?,0\\r\\n4,24,2,1,2,0\\r\\n4,66,1,1,3,0\\r\\n5,33,4,4,3,0\\r\\n4,59,4,3,2,0\\r\\n4,76,2,3,?,0\\r\\n4,40,1,1,?,0\\r\\n4,52,?,4,?,0\\r\\n5,40,4,5,3,1\\r\\n5,67,4,4,3,1\\r\\n5,75,4,3,3,1\\r\\n5,86,4,4,3,0\\r\\n4,60,2,?,?,0\\r\\n5,66,4,4,3,1\\r\\n5,46,4,5,3,1\\r\\n4,59,4,4,3,1\\r\\n5,65,4,4,3,1\\r\\n4,53,1,1,3,0\\r\\n5,67,3,5,3,1\\r\\n5,80,4,5,3,1\\r\\n4,55,2,1,3,0\\r\\n4,48,1,1,?,0\\r\\n4,47,1,1,2,0\\r\\n4,50,2,1,?,0\\r\\n5,62,4,5,3,1\\r\\n5,63,4,4,3,1\\r\\n4,63,4,?,3,1\\r\\n4,71,4,4,3,1\\r\\n4,41,1,1,3,0\\r\\n5,57,4,4,4,1\\r\\n5,71,4,4,4,1\\r\\n4,66,1,1,3,0\\r\\n4,47,2,4,2,0\\r\\n3,34,4,4,3,0\\r\\n4,59,3,4,3,0\\r\\n5,55,2,?,?,1\\r\\n4,51,?,?,3,0\\r\\n4,62,2,1,?,0\\r\\n4,58,4,?,3,1\\r\\n5,67,4,4,3,1\\r\\n4,41,2,1,3,0\\r\\n4,23,3,1,3,0\\r\\n4,53,?,4,3,0\\r\\n4,42,2,1,3,0\\r\\n5,87,4,5,3,1\\r\\n4,68,1,1,3,1\\r\\n4,64,1,1,3,0\\r\\n5,54,3,5,3,1\\r\\n5,86,4,5,3,1\\r\\n4,21,2,1,3,0\\r\\n4,39,1,1,?,0\\r\\n4,53,4,4,3,0\\r\\n4,44,4,4,3,0\\r\\n4,54,1,1,3,0\\r\\n5,63,4,5,3,1\\r\\n4,62,2,1,?,0\\r\\n4,45,2,1,2,0\\r\\n5,71,4,5,3,0\\r\\n5,49,4,4,3,1\\r\\n4,49,4,4,3,0\\r\\n5,66,4,4,4,0\\r\\n4,19,1,1,3,0\\r\\n4,35,1,1,2,0\\r\\n4,71,3,3,?,1\\r\\n5,74,4,5,3,1\\r\\n5,37,4,4,3,1\\r\\n4,67,1,?,3,0\\r\\n5,81,3,4,3,1\\r\\n5,59,4,4,3,1\\r\\n4,34,1,1,3,0\\r\\n5,79,4,3,3,1\\r\\n5,60,3,1,3,0\\r\\n4,41,1,1,3,1\\r\\n4,50,1,1,3,0\\r\\n5,85,4,4,3,1\\r\\n4,46,1,1,3,0\\r\\n5,66,4,4,3,1\\r\\n4,73,3,1,2,0\\r\\n4,55,1,1,3,0\\r\\n4,49,2,1,3,0\\r\\n3,49,4,4,3,0\\r\\n4,51,4,5,3,1\\r\\n2,48,4,4,3,0\\r\\n4,58,4,5,3,0\\r\\n5,72,4,5,3,1\\r\\n4,46,2,3,3,0\\r\\n4,43,4,3,3,1\\r\\n?,52,4,4,3,0\\r\\n4,66,2,1,?,0\\r\\n4,46,1,1,1,0\\r\\n4,69,3,1,3,0\\r\\n2,59,1,1,?,1\\r\\n5,43,2,1,3,1\\r\\n5,76,4,5,3,1\\r\\n4,46,1,1,3,0\\r\\n4,59,2,4,3,0\\r\\n4,57,1,1,3,0\\r\\n5,43,4,5,?,0\\r\\n3,45,2,1,3,0\\r\\n3,43,2,1,3,0\\r\\n4,45,2,1,3,0\\r\\n5,57,4,5,3,1\\r\\n5,79,4,4,3,1\\r\\n5,54,2,1,3,1\\r\\n4,40,3,4,3,0\\r\\n5,63,4,4,3,1\\r\\n2,55,1,?,1,0\\r\\n4,52,2,1,3,0\\r\\n4,38,1,1,3,0\\r\\n3,72,4,3,3,0\\r\\n5,80,4,3,3,1\\r\\n5,76,4,3,3,1\\r\\n4,62,3,1,3,0\\r\\n5,64,4,5,3,1\\r\\n5,42,4,5,3,0\\r\\n3,60,?,3,1,0\\r\\n4,64,4,5,3,0\\r\\n4,63,4,4,3,1\\r\\n4,24,2,1,2,0\\r\\n5,72,4,4,3,1\\r\\n4,63,2,1,3,0\\r\\n4,46,1,1,3,0\\r\\n3,33,1,1,3,0\\r\\n5,76,4,4,3,1\\r\\n4,36,2,3,3,0\\r\\n4,40,2,1,3,0\\r\\n5,58,1,5,3,1\\r\\n4,43,2,1,3,0\\r\\n3,42,1,1,3,0\\r\\n4,32,1,1,3,0\\r\\n5,57,4,4,2,1\\r\\n4,37,1,1,3,0\\r\\n4,70,4,4,3,1\\r\\n5,56,4,2,3,1\\r\\n3,76,?,3,2,0\\r\\n5,73,4,4,3,1\\r\\n5,77,4,5,3,1\\r\\n5,67,4,4,1,1\\r\\n5,71,4,3,3,1\\r\\n5,65,4,4,3,1\\r\\n4,43,1,1,3,0\\r\\n4,40,2,1,?,0\\r\\n4,49,2,1,3,0\\r\\n5,76,4,2,3,1\\r\\n4,55,4,4,3,0\\r\\n5,72,4,5,3,1\\r\\n3,53,4,3,3,0\\r\\n5,75,4,4,3,1\\r\\n5,61,4,5,3,1\\r\\n5,67,4,4,3,1\\r\\n5,55,4,2,3,1\\r\\n5,66,4,4,3,1\\r\\n2,76,1,1,2,0\\r\\n4,57,4,4,3,1\\r\\n5,71,3,1,3,0\\r\\n5,70,4,5,3,1\\r\\n4,35,4,2,?,0\\r\\n5,79,1,?,3,1\\r\\n4,63,2,1,3,0\\r\\n5,40,1,4,3,1\\r\\n4,41,1,1,3,0\\r\\n4,47,2,1,2,0\\r\\n4,68,1,1,3,1\\r\\n4,64,4,3,3,1\\r\\n4,65,4,4,?,1\\r\\n4,73,4,3,3,0\\r\\n4,39,4,3,3,0\\r\\n5,55,4,5,4,1\\r\\n5,53,3,4,4,0\\r\\n5,66,4,4,3,1\\r\\n4,43,3,1,2,0\\r\\n5,44,4,5,3,1\\r\\n4,77,4,4,3,1\\r\\n4,62,2,4,3,0\\r\\n5,80,4,4,3,1\\r\\n4,33,4,4,3,0\\r\\n4,50,4,5,3,1\\r\\n4,71,1,?,3,0\\r\\n5,46,4,4,3,1\\r\\n5,49,4,5,3,1\\r\\n4,53,1,1,3,0\\r\\n3,46,2,1,2,0\\r\\n4,57,1,1,3,0\\r\\n4,54,3,1,3,0\\r\\n4,54,1,?,?,0\\r\\n2,49,2,1,2,0\\r\\n4,47,3,1,3,0\\r\\n4,40,1,1,3,0\\r\\n4,45,1,1,3,0\\r\\n4,50,4,5,3,1\\r\\n5,54,4,4,3,1\\r\\n4,67,4,1,3,1\\r\\n4,77,4,4,3,1\\r\\n4,66,4,3,3,0\\r\\n4,71,2,?,3,1\\r\\n4,36,2,3,3,0\\r\\n4,69,4,4,3,0\\r\\n4,48,1,1,3,0\\r\\n4,64,4,4,3,1\\r\\n4,71,4,2,3,1\\r\\n5,60,4,3,3,1\\r\\n4,24,1,1,3,0\\r\\n5,34,4,5,2,1\\r\\n4,79,1,1,2,0\\r\\n4,45,1,1,3,0\\r\\n4,37,2,1,2,0\\r\\n4,42,1,1,2,0\\r\\n4,72,4,4,3,1\\r\\n5,60,4,5,3,1\\r\\n5,85,3,5,3,1\\r\\n4,51,1,1,3,0\\r\\n5,54,4,5,3,1\\r\\n5,55,4,3,3,1\\r\\n4,64,4,4,3,0\\r\\n5,67,4,5,3,1\\r\\n5,75,4,3,3,1\\r\\n5,87,4,4,3,1\\r\\n4,46,4,4,3,1\\r\\n4,59,2,1,?,0\\r\\n55,46,4,3,3,1\\r\\n5,61,1,1,3,1\\r\\n4,44,1,4,3,0\\r\\n4,32,1,1,3,0\\r\\n4,62,1,1,3,0\\r\\n5,59,4,5,3,1\\r\\n4,61,4,1,3,0\\r\\n5,78,4,4,3,1\\r\\n5,42,4,5,3,0\\r\\n4,45,1,2,3,0\\r\\n5,34,2,1,3,1\\r\\n5,39,4,3,?,1\\r\\n4,27,3,1,3,0\\r\\n4,43,1,1,3,0\\r\\n5,83,4,4,3,1\\r\\n4,36,2,1,3,0\\r\\n4,37,2,1,3,0\\r\\n4,56,3,1,3,1\\r\\n5,55,4,4,3,1\\r\\n5,46,3,?,3,0\\r\\n4,88,4,4,3,1\\r\\n5,71,4,4,3,1\\r\\n4,41,2,1,3,0\\r\\n5,49,4,4,3,1\\r\\n3,51,1,1,4,0\\r\\n4,39,1,3,3,0\\r\\n4,46,2,1,3,0\\r\\n5,52,4,4,3,1\\r\\n5,58,4,4,3,1\\r\\n4,67,4,5,3,1\\r\\n5,80,4,4,3,1\\r\\n3,46,1,?,?,0\\r\\n3,43,1,?,?,0\\r\\n4,45,1,1,3,0\\r\\n5,68,4,4,3,1\\r\\n4,54,4,4,?,1\\r\\n4,44,2,3,3,0\\r\\n5,74,4,3,3,1\\r\\n5,55,4,5,3,0\\r\\n4,49,4,4,3,1\\r\\n4,49,1,1,3,0\\r\\n5,50,4,3,3,1\\r\\n5,52,3,5,3,1\\r\\n4,45,1,1,3,0\\r\\n4,66,1,1,3,0\\r\\n4,68,4,4,3,1\\r\\n4,72,2,1,3,0\\r\\n5,64,?,?,3,0\\r\\n2,49,?,3,3,0\\r\\n3,44,?,4,3,0\\r\\n5,74,4,4,3,1\\r\\n5,58,4,4,3,1\\r\\n4,77,2,3,3,0\\r\\n4,49,3,1,3,0\\r\\n4,34,?,?,4,0\\r\\n5,60,4,3,3,1\\r\\n5,69,4,3,3,1\\r\\n4,53,2,1,3,0\\r\\n3,46,3,4,3,0\\r\\n5,74,4,4,3,1\\r\\n4,58,1,1,3,0\\r\\n5,68,4,4,3,1\\r\\n5,46,4,3,3,0\\r\\n5,61,2,4,3,1\\r\\n5,70,4,3,3,1\\r\\n5,37,4,4,3,1\\r\\n3,65,4,5,3,1\\r\\n4,67,4,4,3,0\\r\\n5,69,3,4,3,0\\r\\n5,76,4,4,3,1\\r\\n4,65,4,3,3,0\\r\\n5,72,4,2,3,1\\r\\n4,62,4,2,3,0\\r\\n5,42,4,4,3,1\\r\\n5,66,4,3,3,1\\r\\n5,48,4,4,3,1\\r\\n4,35,1,1,3,0\\r\\n5,60,4,4,3,1\\r\\n5,67,4,2,3,1\\r\\n5,78,4,4,3,1\\r\\n4,66,1,1,3,1\\r\\n4,26,1,1,?,0\\r\\n4,48,1,1,3,0\\r\\n4,31,1,1,3,0\\r\\n5,43,4,3,3,1\\r\\n5,72,2,4,3,0\\r\\n5,66,1,1,3,1\\r\\n4,56,4,4,3,0\\r\\n5,58,4,5,3,1\\r\\n5,33,2,4,3,1\\r\\n4,37,1,1,3,0\\r\\n5,36,4,3,3,1\\r\\n4,39,2,3,3,0\\r\\n4,39,4,4,3,1\\r\\n5,83,4,4,3,1\\r\\n4,68,4,5,3,1\\r\\n5,63,3,4,3,1\\r\\n5,78,4,4,3,1\\r\\n4,38,2,3,3,0\\r\\n5,46,4,3,3,1\\r\\n5,60,4,4,3,1\\r\\n5,56,2,3,3,1\\r\\n4,33,1,1,3,0\\r\\n4,?,4,5,3,1\\r\\n4,69,1,5,3,1\\r\\n5,66,1,4,3,1\\r\\n4,72,1,3,3,0\\r\\n4,29,1,1,3,0\\r\\n5,54,4,5,3,1\\r\\n5,80,4,4,3,1\\r\\n5,68,4,3,3,1\\r\\n4,35,2,1,3,0\\r\\n4,57,3,?,3,0\\r\\n5,?,4,4,3,1\\r\\n4,50,1,1,3,0\\r\\n4,32,4,3,3,0\\r\\n0,69,4,5,3,1\\r\\n4,71,4,5,3,1\\r\\n5,87,4,5,3,1\\r\\n3,40,2,?,3,0\\r\\n4,31,1,1,?,0\\r\\n4,64,1,1,3,0\\r\\n5,55,4,5,3,1\\r\\n4,18,1,1,3,0\\r\\n3,50,2,1,?,0\\r\\n4,53,1,1,3,0\\r\\n5,84,4,5,3,1\\r\\n5,80,4,3,3,1\\r\\n4,32,1,1,3,0\\r\\n5,77,3,4,3,1\\r\\n4,38,1,1,3,0\\r\\n5,54,4,5,3,1\\r\\n4,63,1,1,3,0\\r\\n4,61,1,1,3,0\\r\\n4,52,1,1,3,0\\r\\n4,36,1,1,3,0\\r\\n4,41,?,?,3,0\\r\\n4,59,1,1,3,0\\r\\n5,51,4,4,2,1\\r\\n4,36,1,1,3,0\\r\\n5,40,4,3,3,1\\r\\n4,49,1,1,3,0\\r\\n4,37,2,3,3,0\\r\\n4,46,1,1,3,0\\r\\n4,63,1,1,3,0\\r\\n4,28,2,1,3,0\\r\\n4,47,2,1,3,0\\r\\n4,42,2,1,3,1\\r\\n5,44,4,5,3,1\\r\\n4,49,4,4,3,0\\r\\n5,47,4,5,3,1\\r\\n5,52,4,5,3,1\\r\\n4,53,1,1,3,1\\r\\n5,83,3,3,3,1\\r\\n4,50,4,4,?,1\\r\\n5,63,4,4,3,1\\r\\n4,82,?,5,3,1\\r\\n4,54,1,1,3,0\\r\\n4,50,4,4,3,0\\r\\n5,80,4,5,3,1\\r\\n5,45,2,4,3,0\\r\\n5,59,4,4,?,1\\r\\n4,28,2,1,3,0\\r\\n4,31,1,1,3,0\\r\\n4,41,2,1,3,0\\r\\n4,21,3,1,3,0\\r\\n5,44,3,4,3,1\\r\\n5,49,4,4,3,1\\r\\n5,71,4,5,3,1\\r\\n5,75,4,5,3,1\\r\\n4,38,2,1,3,0\\r\\n4,60,1,3,3,0\\r\\n5,87,4,5,3,1\\r\\n4,70,4,4,3,1\\r\\n5,55,4,5,3,1\\r\\n3,21,1,1,3,0\\r\\n4,50,1,1,3,0\\r\\n5,76,4,5,3,1\\r\\n4,23,1,1,3,0\\r\\n3,68,?,?,3,0\\r\\n4,62,4,?,3,1\\r\\n5,65,1,?,3,1\\r\\n5,73,4,5,3,1\\r\\n4,38,2,3,3,0\\r\\n2,57,1,1,3,0\\r\\n5,65,4,5,3,1\\r\\n5,67,2,4,3,1\\r\\n5,61,2,4,3,1\\r\\n5,56,4,4,3,0\\r\\n5,71,2,4,3,1\\r\\n4,49,2,2,3,0\\r\\n4,55,?,?,3,0\\r\\n4,44,2,1,3,0\\r\\n0,58,4,4,3,0\\r\\n4,27,2,1,3,0\\r\\n5,73,4,5,3,1\\r\\n4,34,2,1,3,0\\r\\n5,63,?,4,3,1\\r\\n4,50,2,1,3,1\\r\\n4,62,2,1,3,0\\r\\n3,21,3,1,3,0\\r\\n4,49,2,?,3,0\\r\\n4,36,3,1,3,0\\r\\n4,45,2,1,3,1\\r\\n5,67,4,5,3,1\\r\\n4,21,1,1,3,0\\r\\n4,57,2,1,3,0\\r\\n5,66,4,5,3,1\\r\\n4,71,4,4,3,1\\r\\n5,69,3,4,3,1\\r\\n6,80,4,5,3,1\\r\\n3,27,2,1,3,0\\r\\n4,38,2,1,3,0\\r\\n4,23,2,1,3,0\\r\\n5,70,?,5,3,1\\r\\n4,46,4,3,3,0\\r\\n4,61,2,3,3,0\\r\\n5,65,4,5,3,1\\r\\n4,60,4,3,3,0\\r\\n5,83,4,5,3,1\\r\\n5,40,4,4,3,1\\r\\n2,59,?,4,3,0\\r\\n4,53,3,4,3,0\\r\\n4,76,4,4,3,0\\r\\n5,79,1,4,3,1\\r\\n5,38,2,4,3,1\\r\\n4,61,3,4,3,0\\r\\n4,56,2,1,3,0\\r\\n4,44,2,1,3,0\\r\\n4,64,3,4,?,1\\r\\n4,66,3,3,3,0\\r\\n4,50,3,3,3,0\\r\\n4,46,1,1,3,0\\r\\n4,39,1,1,3,0\\r\\n4,60,3,?,?,0\\r\\n5,55,4,5,3,1\\r\\n4,40,2,1,3,0\\r\\n4,26,1,1,3,0\\r\\n5,84,3,2,3,1\\r\\n4,41,2,2,3,0\\r\\n4,63,1,1,3,0\\r\\n2,65,?,1,2,0\\r\\n4,49,1,1,3,0\\r\\n4,56,2,2,3,1\\r\\n5,65,4,4,3,0\\r\\n4,54,1,1,3,0\\r\\n4,36,1,1,3,0\\r\\n5,49,4,4,3,0\\r\\n4,59,4,4,3,1\\r\\n5,75,4,4,3,1\\r\\n5,59,4,2,3,0\\r\\n5,59,4,4,3,1\\r\\n4,28,4,4,3,1\\r\\n5,53,4,5,3,0\\r\\n5,57,4,4,3,0\\r\\n5,77,4,3,4,0\\r\\n5,85,4,3,3,1\\r\\n4,59,4,4,3,0\\r\\n5,59,1,5,3,1\\r\\n4,65,3,3,3,1\\r\\n4,54,2,1,3,0\\r\\n5,46,4,5,3,1\\r\\n4,63,4,4,3,1\\r\\n4,53,1,1,3,1\\r\\n4,56,1,1,3,0\\r\\n5,66,4,4,3,1\\r\\n5,66,4,5,3,1\\r\\n4,55,1,1,3,0\\r\\n4,44,1,1,3,0\\r\\n5,86,3,4,3,1\\r\\n5,47,4,5,3,1\\r\\n5,59,4,5,3,1\\r\\n5,66,4,5,3,0\\r\\n5,61,4,3,3,1\\r\\n3,46,?,5,?,1\\r\\n4,69,1,1,3,0\\r\\n5,93,1,5,3,1\\r\\n4,39,1,3,3,0\\r\\n5,44,4,5,3,1\\r\\n4,45,2,2,3,0\\r\\n4,51,3,4,3,0\\r\\n4,56,2,4,3,0\\r\\n4,66,4,4,3,0\\r\\n5,61,4,5,3,1\\r\\n4,64,3,3,3,1\\r\\n5,57,2,4,3,0\\r\\n5,79,4,4,3,1\\r\\n4,57,2,1,?,0\\r\\n4,44,4,1,1,0\\r\\n4,31,2,1,3,0\\r\\n4,63,4,4,3,0\\r\\n4,64,1,1,3,0\\r\\n5,47,4,5,3,0\\r\\n5,68,4,5,3,1\\r\\n4,30,1,1,3,0\\r\\n5,43,4,5,3,1\\r\\n4,56,1,1,3,0\\r\\n4,46,2,1,3,0\\r\\n4,67,2,1,3,0\\r\\n5,52,4,5,3,1\\r\\n4,67,4,4,3,1\\r\\n4,47,2,1,3,0\\r\\n5,58,4,5,3,1\\r\\n4,28,2,1,3,0\\r\\n4,43,1,1,3,0\\r\\n4,57,2,4,3,0\\r\\n5,68,4,5,3,1\\r\\n4,64,2,4,3,0\\r\\n4,64,2,4,3,0\\r\\n5,62,4,4,3,1\\r\\n4,38,4,1,3,0\\r\\n5,68,4,4,3,1\\r\\n4,41,2,1,3,0\\r\\n4,35,2,1,3,1\\r\\n4,68,2,1,3,0\\r\\n5,55,4,4,3,1\\r\\n5,67,4,4,3,1\\r\\n4,51,4,3,3,0\\r\\n2,40,1,1,3,0\\r\\n5,73,4,4,3,1\\r\\n4,58,?,4,3,1\\r\\n4,51,?,4,3,0\\r\\n3,50,?,?,3,1\\r\\n5,59,4,3,3,1\\r\\n6,60,3,5,3,1\\r\\n4,27,2,1,?,0\\r\\n5,54,4,3,3,0\\r\\n4,56,1,1,3,0\\r\\n5,53,4,5,3,1\\r\\n4,54,2,4,3,0\\r\\n5,79,1,4,3,1\\r\\n5,67,4,3,3,1\\r\\n5,64,3,3,3,1\\r\\n4,70,1,2,3,1\\r\\n5,55,4,3,3,1\\r\\n5,65,3,3,3,1\\r\\n5,45,4,2,3,1\\r\\n4,57,4,4,?,1\\r\\n5,49,1,1,3,1\\r\\n4,24,2,1,3,0\\r\\n4,52,1,1,3,0\\r\\n4,50,2,1,3,0\\r\\n4,35,1,1,3,0\\r\\n5,?,3,3,3,1\\r\\n5,64,4,3,3,1\\r\\n5,40,4,1,1,1\\r\\n5,66,4,4,3,1\\r\\n4,64,4,4,3,1\\r\\n5,52,4,3,3,1\\r\\n5,43,1,4,3,1\\r\\n4,56,4,4,3,0\\r\\n4,72,3,?,3,0\\r\\n6,51,4,4,3,1\\r\\n4,79,4,4,3,1\\r\\n4,22,2,1,3,0\\r\\n4,73,2,1,3,0\\r\\n4,53,3,4,3,0\\r\\n4,59,2,1,3,1\\r\\n4,46,4,4,2,0\\r\\n5,66,4,4,3,1\\r\\n4,50,4,3,3,1\\r\\n4,58,1,1,3,1\\r\\n4,55,1,1,3,0\\r\\n4,62,2,4,3,1\\r\\n4,60,1,1,3,0\\r\\n5,57,4,3,3,1\\r\\n4,57,1,1,3,0\\r\\n6,41,2,1,3,0\\r\\n4,71,2,1,3,1\\r\\n4,32,2,1,3,0\\r\\n4,57,2,1,3,0\\r\\n4,19,1,1,3,0\\r\\n4,62,2,4,3,1\\r\\n5,67,4,5,3,1\\r\\n4,50,4,5,3,0\\r\\n4,65,2,3,2,0\\r\\n4,40,2,4,2,0\\r\\n6,71,4,4,3,1\\r\\n6,68,4,3,3,1\\r\\n4,68,1,1,3,0\\r\\n4,29,1,1,3,0\\r\\n4,53,2,1,3,0\\r\\n5,66,4,4,3,1\\r\\n4,60,3,?,4,0\\r\\n5,76,4,4,3,1\\r\\n4,58,2,1,2,0\\r\\n5,96,3,4,3,1\\r\\n5,70,4,4,3,1\\r\\n4,34,2,1,3,0\\r\\n4,59,2,1,3,0\\r\\n4,45,3,1,3,1\\r\\n5,65,4,4,3,1\\r\\n4,59,1,1,3,0\\r\\n4,21,2,1,3,0\\r\\n3,43,2,1,3,0\\r\\n4,53,1,1,3,0\\r\\n4,65,2,1,3,0\\r\\n4,64,2,4,3,1\\r\\n4,53,4,4,3,0\\r\\n4,51,1,1,3,0\\r\\n4,59,2,4,3,0\\r\\n4,56,2,1,3,0\\r\\n4,60,2,1,3,0\\r\\n4,22,1,1,3,0\\r\\n4,25,2,1,3,0\\r\\n6,76,3,?,3,0\\r\\n5,69,4,4,3,1\\r\\n4,58,2,1,3,0\\r\\n5,62,4,3,3,1\\r\\n4,56,4,4,3,0\\r\\n4,64,1,1,3,0\\r\\n4,32,2,1,3,0\\r\\n5,48,?,4,?,1\\r\\n5,59,4,4,2,1\\r\\n4,52,1,1,3,0\\r\\n4,63,4,4,3,0\\r\\n5,67,4,4,3,1\\r\\n5,61,4,4,3,1\\r\\n5,59,4,5,3,1\\r\\n5,52,4,3,3,1\\r\\n4,35,4,4,3,0\\r\\n5,77,3,3,3,1\\r\\n5,71,4,3,3,1\\r\\n5,63,4,3,3,1\\r\\n4,38,2,1,2,0\\r\\n5,72,4,3,3,1\\r\\n4,76,4,3,3,1\\r\\n4,53,3,3,3,0\\r\\n4,67,4,5,3,0\\r\\n5,69,2,4,3,1\\r\\n4,54,1,1,3,0\\r\\n2,35,2,1,2,0\\r\\n5,68,4,3,3,1\\r\\n4,68,4,4,3,0\\r\\n4,67,2,4,3,1\\r\\n3,39,1,1,3,0\\r\\n4,44,2,1,3,0\\r\\n4,33,1,1,3,0\\r\\n4,60,?,4,3,0\\r\\n4,58,1,1,3,0\\r\\n4,31,1,1,3,0\\r\\n3,23,1,1,3,0\\r\\n5,56,4,5,3,1\\r\\n4,69,2,1,3,1\\r\\n6,63,1,1,3,0\\r\\n4,65,1,1,3,1\\r\\n4,44,2,1,2,0\\r\\n4,62,3,3,3,1\\r\\n4,67,4,4,3,1\\r\\n4,56,2,1,3,0\\r\\n4,52,3,4,3,0\\r\\n4,43,1,1,3,1\\r\\n4,41,4,3,2,1\\r\\n4,42,3,4,2,0\\r\\n3,46,1,1,3,0\\r\\n5,55,4,4,3,1\\r\\n5,58,4,4,2,1\\r\\n5,87,4,4,3,1\\r\\n4,66,2,1,3,0\\r\\n0,72,4,3,3,1\\r\\n5,60,4,3,3,1\\r\\n5,83,4,4,2,1\\r\\n4,31,2,1,3,0\\r\\n4,53,2,1,3,0\\r\\n4,64,2,3,3,0\\r\\n5,31,4,4,2,1\\r\\n5,62,4,4,2,1\\r\\n4,56,2,1,3,0\\r\\n5,58,4,4,3,1\\r\\n4,67,1,4,3,0\\r\\n5,75,4,5,3,1\\r\\n5,65,3,4,3,1\\r\\n5,74,3,2,3,1\\r\\n4,59,2,1,3,0\\r\\n4,57,4,4,4,1\\r\\n4,76,3,2,3,0\\r\\n4,63,1,4,3,0\\r\\n4,44,1,1,3,0\\r\\n4,42,3,1,2,0\\r\\n4,35,3,?,2,0\\r\\n5,65,4,3,3,1\\r\\n4,70,2,1,3,0\\r\\n4,48,1,1,3,0\\r\\n4,74,1,1,1,1\\r\\n6,40,?,3,4,1\\r\\n4,63,1,1,3,0\\r\\n5,60,4,4,3,1\\r\\n5,86,4,3,3,1\\r\\n4,27,1,1,3,0\\r\\n4,71,4,5,2,1\\r\\n5,85,4,4,3,1\\r\\n4,51,3,3,3,0\\r\\n6,72,4,3,3,1\\r\\n5,52,4,4,3,1\\r\\n4,66,2,1,3,0\\r\\n5,71,4,5,3,1\\r\\n4,42,2,1,3,0\\r\\n4,64,4,4,2,1\\r\\n4,41,2,2,3,0\\r\\n4,50,2,1,3,0\\r\\n4,30,1,1,3,0\\r\\n4,67,1,1,3,0\\r\\n5,62,4,4,3,1\\r\\n4,46,2,1,2,0\\r\\n4,35,1,1,3,0\\r\\n4,53,1,1,2,0\\r\\n4,59,2,1,3,0\\r\\n4,19,3,1,3,0\\r\\n5,86,2,1,3,1\\r\\n4,72,2,1,3,0\\r\\n4,37,2,1,2,0\\r\\n4,46,3,1,3,1\\r\\n4,45,1,1,3,0\\r\\n4,48,4,5,3,0\\r\\n4,58,4,4,3,1\\r\\n4,42,1,1,3,0\\r\\n4,56,2,4,3,1\\r\\n4,47,2,1,3,0\\r\\n4,49,4,4,3,1\\r\\n5,76,2,5,3,1\\r\\n5,62,4,5,3,1\\r\\n5,64,4,4,3,1\\r\\n5,53,4,3,3,1\\r\\n4,70,4,2,2,1\\r\\n5,55,4,4,3,1\\r\\n4,34,4,4,3,0\\r\\n5,76,4,4,3,1\\r\\n4,39,1,1,3,0\\r\\n2,23,1,1,3,0\\r\\n4,19,1,1,3,0\\r\\n5,65,4,5,3,1\\r\\n4,57,2,1,3,0\\r\\n5,41,4,4,3,1\\r\\n4,36,4,5,3,1\\r\\n4,62,3,3,3,0\\r\\n4,69,2,1,3,0\\r\\n4,41,3,1,3,0\\r\\n3,51,2,4,3,0\\r\\n5,50,3,2,3,1\\r\\n4,47,4,4,3,0\\r\\n4,54,4,5,3,1\\r\\n5,52,4,4,3,1\\r\\n4,30,1,1,3,0\\r\\n3,48,4,4,3,1\\r\\n5,?,4,4,3,1\\r\\n4,65,2,4,3,1\\r\\n4,50,1,1,3,0\\r\\n5,65,4,5,3,1\\r\\n5,66,4,3,3,1\\r\\n6,41,3,3,2,1\\r\\n5,72,3,2,3,1\\r\\n4,42,1,1,1,1\\r\\n4,80,4,4,3,1\\r\\n0,45,2,4,3,0\\r\\n4,41,1,1,3,0\\r\\n4,72,3,3,3,1\\r\\n4,60,4,5,3,0\\r\\n5,67,4,3,3,1\\r\\n4,55,2,1,3,0\\r\\n4,61,3,4,3,1\\r\\n4,55,3,4,3,1\\r\\n4,52,4,4,3,1\\r\\n4,42,1,1,3,0\\r\\n5,63,4,4,3,1\\r\\n4,62,4,5,3,1\\r\\n4,46,1,1,3,0\\r\\n4,65,2,1,3,0\\r\\n4,57,3,3,3,1\\r\\n4,66,4,5,3,1\\r\\n4,45,1,1,3,0\\r\\n4,77,4,5,3,1\\r\\n4,35,1,1,3,0\\r\\n4,50,4,5,3,1\\r\\n4,57,4,4,3,0\\r\\n4,74,3,1,3,1\\r\\n4,59,4,5,3,0\\r\\n4,51,1,1,3,0\\r\\n4,42,3,4,3,1\\r\\n4,35,2,4,3,0\\r\\n4,42,1,1,3,0\\r\\n4,43,2,1,3,0\\r\\n4,62,4,4,3,1\\r\\n4,27,2,1,3,0\\r\\n5,?,4,3,3,1\\r\\n4,57,4,4,3,1\\r\\n4,59,2,1,3,0\\r\\n5,40,3,2,3,1\\r\\n4,20,1,1,3,0\\r\\n5,74,4,3,3,1\\r\\n4,22,1,1,3,0\\r\\n4,57,4,3,3,0\\r\\n4,57,4,3,3,1\\r\\n4,55,2,1,2,0\\r\\n4,62,2,1,3,0\\r\\n4,54,1,1,3,0\\r\\n4,71,1,1,3,1\\r\\n4,65,3,3,3,0\\r\\n4,68,4,4,3,0\\r\\n4,64,1,1,3,0\\r\\n4,54,2,4,3,0\\r\\n4,48,4,4,3,1\\r\\n4,58,4,3,3,0\\r\\n5,58,3,4,3,1\\r\\n4,70,1,1,1,0\\r\\n5,70,1,4,3,1\\r\\n4,59,2,1,3,0\\r\\n4,57,2,4,3,0\\r\\n4,53,4,5,3,0\\r\\n4,54,4,4,3,1\\r\\n4,53,2,1,3,0\\r\\n0,71,4,4,3,1\\r\\n5,67,4,5,3,1\\r\\n4,68,4,4,3,1\\r\\n4,56,2,4,3,0\\r\\n4,35,2,1,3,0\\r\\n4,52,4,4,3,1\\r\\n4,47,2,1,3,0\\r\\n4,56,4,5,3,1\\r\\n4,64,4,5,3,0\\r\\n5,66,4,5,3,1\\r\\n4,62,3,3,3,0\\r\\n'}"
            ]
          },
          "metadata": {
            "tags": []
          },
          "execution_count": 2
        }
      ]
    },
    {
      "cell_type": "code",
      "metadata": {
        "id": "DgaeLB3TBeW6",
        "outputId": "9af741ca-9f1c-4504-8cb7-835eb46e4ab6",
        "colab": {
          "base_uri": "https://localhost:8080/"
        }
      },
      "source": [
        "df = pd.read_csv('mammographic_masses.data',na_values=['?'],names = ['BI-RADS', 'age', 'shape', 'margin', 'density', 'Severity'] )\n",
        "df.isna().sum()"
      ],
      "execution_count": 4,
      "outputs": [
        {
          "output_type": "execute_result",
          "data": {
            "text/plain": [
              "BI-RADS      2\n",
              "age          5\n",
              "shape       31\n",
              "margin      48\n",
              "density     76\n",
              "Severity     0\n",
              "dtype: int64"
            ]
          },
          "metadata": {
            "tags": []
          },
          "execution_count": 4
        }
      ]
    },
    {
      "cell_type": "code",
      "metadata": {
        "id": "JjINBPK_zful",
        "outputId": "72252094-f781-4d04-bfb8-831f5cbae980",
        "colab": {
          "base_uri": "https://localhost:8080/",
          "height": 404
        }
      },
      "source": [
        "plt.hist(df.density)"
      ],
      "execution_count": 5,
      "outputs": [
        {
          "output_type": "stream",
          "text": [
            "/usr/local/lib/python3.6/dist-packages/numpy/lib/histograms.py:839: RuntimeWarning: invalid value encountered in greater_equal\n",
            "  keep = (tmp_a >= first_edge)\n",
            "/usr/local/lib/python3.6/dist-packages/numpy/lib/histograms.py:840: RuntimeWarning: invalid value encountered in less_equal\n",
            "  keep &= (tmp_a <= last_edge)\n"
          ],
          "name": "stderr"
        },
        {
          "output_type": "execute_result",
          "data": {
            "text/plain": [
              "(array([ 16.,   0.,   0.,  59.,   0.,   0., 798.,   0.,   0.,  12.]),\n",
              " array([1. , 1.3, 1.6, 1.9, 2.2, 2.5, 2.8, 3.1, 3.4, 3.7, 4. ]),\n",
              " <a list of 10 Patch objects>)"
            ]
          },
          "metadata": {
            "tags": []
          },
          "execution_count": 5
        },
        {
          "output_type": "display_data",
          "data": {
            "image/png": "[encoded data removed]",
            "text/plain": [
              "<Figure size 432x288 with 1 Axes>"
            ]
          },
          "metadata": {
            "tags": [],
            "needs_background": "light"
          }
        }
      ]
    },
    {
      "cell_type": "code",
      "metadata": {
        "id": "eI4BtcZ9NMd3"
      },
      "source": [
        "# df.loc[(df.BI_assessment=='?'),'BI_assessment'] = np.nan\n",
        "# df.loc[(df.Age=='?'),'Age'] = np.nan\n",
        "# df.loc[(df.Shape=='?'),'Shape'] = np.nan\n",
        "# df.loc[(df.Margin=='?'),'Margin'] = np.nan\n",
        "# df.loc[(df.Density=='?'),'Density'] = np.nan\n"
      ],
      "execution_count": null,
      "outputs": []
    },
    {
      "cell_type": "code",
      "metadata": {
        "id": "AEuZUYoEOZ1t",
        "outputId": "9ff7c42a-4a32-4c11-ffb4-d3830bd31795",
        "colab": {
          "base_uri": "https://localhost:8080/"
        }
      },
      "source": [
        "df.isna().sum()"
      ],
      "execution_count": 6,
      "outputs": [
        {
          "output_type": "execute_result",
          "data": {
            "text/plain": [
              "BI-RADS      2\n",
              "age          5\n",
              "shape       31\n",
              "margin      48\n",
              "density     76\n",
              "Severity     0\n",
              "dtype: int64"
            ]
          },
          "metadata": {
            "tags": []
          },
          "execution_count": 6
        }
      ]
    },
    {
      "cell_type": "code",
      "metadata": {
        "id": "VuHZgiTRPuCf"
      },
      "source": [
        "from sklearn.pipeline import Pipeline\n",
        "from sklearn.preprocessing import StandardScaler"
      ],
      "execution_count": 12,
      "outputs": []
    },
    {
      "cell_type": "code",
      "metadata": {
        "id": "QbvkQJunQaxd"
      },
      "source": [
        " x = df.drop(['Severity','BI-RADS'], axis=1)\n",
        " y = df['Severity']"
      ],
      "execution_count": 13,
      "outputs": []
    },
    {
      "cell_type": "code",
      "metadata": {
        "id": "hiiJjncUfCHq",
        "outputId": "ba385dd8-8959-47c5-d1c8-80152d40e40b",
        "colab": {
          "base_uri": "https://localhost:8080/"
        }
      },
      "source": [
        "x['age'] = pd.to_numeric(x.age)\n",
        "age_mean = x.age.mean()\n",
        "x['age'].fillna(age_mean, inplace=True)\n",
        "x.isna().sum()"
      ],
      "execution_count": 55,
      "outputs": [
        {
          "output_type": "execute_result",
          "data": {
            "text/plain": [
              "age         0\n",
              "shape      31\n",
              "margin     48\n",
              "density    76\n",
              "dtype: int64"
            ]
          },
          "metadata": {
            "tags": []
          },
          "execution_count": 55
        }
      ]
    },
    {
      "cell_type": "code",
      "metadata": {
        "id": "f1qyrpcyRBzg",
        "outputId": "7c62b70d-3183-43be-9db4-dcd2dacc3665",
        "colab": {
          "base_uri": "https://localhost:8080/"
        }
      },
      "source": [
        "x.dtypes"
      ],
      "execution_count": 56,
      "outputs": [
        {
          "output_type": "execute_result",
          "data": {
            "text/plain": [
              "age        float64\n",
              "shape      float64\n",
              "margin     float64\n",
              "density    float64\n",
              "dtype: object"
            ]
          },
          "metadata": {
            "tags": []
          },
          "execution_count": 56
        }
      ]
    },
    {
      "cell_type": "code",
      "metadata": {
        "id": "HbE_JRJXhQu1"
      },
      "source": [
        "from sklearn.impute import  SimpleImputer\n",
        "numerical_imputer = SimpleImputer(strategy='mean')\n",
        "categorial_imputer = SimpleImputer(strategy='most_frequent')"
      ],
      "execution_count": 16,
      "outputs": []
    },
    {
      "cell_type": "code",
      "metadata": {
        "id": "yqwOD8WBidD1"
      },
      "source": [
        "numerical_transformer = Pipeline(steps=[\n",
        "            ('imputer', numerical_imputer),\n",
        "            ('scaler', StandardScaler())])\n",
        "categorial_transformer = Pipeline(steps=[\n",
        "    ('imputer', categorial_imputer)                                     \n",
        "])"
      ],
      "execution_count": 48,
      "outputs": []
    },
    {
      "cell_type": "code",
      "metadata": {
        "id": "E6CW8H-Tjfrk"
      },
      "source": [
        "from sklearn.compose import ColumnTransformer\n",
        "from sklearn.model_selection import train_test_split\n",
        "from sklearn.tree import DecisionTreeClassifier\n",
        "from sklearn.metrics import confusion_matrix,accuracy_score,f1_score\n",
        "from sklearn.ensemble import RandomForestClassifier"
      ],
      "execution_count": 74,
      "outputs": []
    },
    {
      "cell_type": "code",
      "metadata": {
        "id": "YrWnJ5iDnk4g"
      },
      "source": [
        "x_train, x_test , y_train, y_test = train_test_split(x,y,test_size= 0.30, random_state=42)"
      ],
      "execution_count": 50,
      "outputs": []
    },
    {
      "cell_type": "code",
      "metadata": {
        "id": "_OGWVnIErUMn"
      },
      "source": [
        "numerical_cols = x_train.select_dtypes(include='float64').columns\n",
        "preprocessor = ColumnTransformer(\n",
        "    transformers = [\n",
        "       ('numeric', numerical_transformer,numerical_cols)             \n",
        "    ]\n",
        ")\n"
      ],
      "execution_count": 60,
      "outputs": []
    },
    {
      "cell_type": "code",
      "metadata": {
        "id": "A2u4M1dSsuO_"
      },
      "source": [
        "pipeline_tree = Pipeline(steps=[\n",
        "              ('preprocessor', preprocessor),\n",
        "              ('tree_model', DecisionTreeClassifier(max_depth=8, ccp_alpha=0))                  \n",
        "])"
      ],
      "execution_count": 71,
      "outputs": []
    },
    {
      "cell_type": "code",
      "metadata": {
        "id": "QCLMsLU8tGPd"
      },
      "source": [
        "pipeline_tree.fit(x_train,y_train)"
      ],
      "execution_count": null,
      "outputs": []
    },
    {
      "cell_type": "code",
      "metadata": {
        "id": "L78wXQ3FtV70",
        "outputId": "47dfba3d-bde3-44e3-d1a9-64e3f125da56",
        "colab": {
          "base_uri": "https://localhost:8080/"
        }
      },
      "source": [
        "print(accuracy_score(y_test,pipeline_tree.predict(x_test)))"
      ],
      "execution_count": 73,
      "outputs": [
        {
          "output_type": "stream",
          "text": [
            "0.7647058823529411\n"
          ],
          "name": "stdout"
        }
      ]
    },
    {
      "cell_type": "code",
      "metadata": {
        "id": "ukNiTjy2R-nQ"
      },
      "source": [
        "ccp_alpha = [i for i in np.arange(0.00,0.30,0.01)]\n",
        "max_depth_range = range(1,11)\n",
        "param_grid = {'tree_model__ccp_alpha':ccp_alpha,'tree_model__max_depth':max_depth_range}"
      ],
      "execution_count": 66,
      "outputs": []
    },
    {
      "cell_type": "code",
      "metadata": {
        "id": "cDlpM1g5S2_4"
      },
      "source": [
        "rand = RandomizedSearchCV(pipeline_tree,param_distributions=param_grid,cv=10,n_iter=10,scoring='accuracy')\n",
        "rand.fit(x_train, y_train)"
      ],
      "execution_count": null,
      "outputs": []
    },
    {
      "cell_type": "code",
      "metadata": {
        "id": "1QUU_LtjTIbZ",
        "outputId": "0412e10b-b94d-4169-ecdd-72d06c5f3413",
        "colab": {
          "base_uri": "https://localhost:8080/",
          "height": 117
        }
      },
      "source": [
        "rand_df = pd.DataFrame(rand.cv_results_)\n",
        "max_value = rand_df.loc[(rand_df.mean_test_score== max(rand_df.mean_test_score))]\n",
        "max_value"
      ],
      "execution_count": 70,
      "outputs": [
        {
          "output_type": "execute_result",
          "data": {
            "text/html": [
              "<div>\n",
              "<style scoped>\n",
              "    .dataframe tbody tr th:only-of-type {\n",
              "        vertical-align: middle;\n",
              "    }\n",
              "\n",
              "    .dataframe tbody tr th {\n",
              "        vertical-align: top;\n",
              "    }\n",
              "\n",
              "    .dataframe thead th {\n",
              "        text-align: right;\n",
              "    }\n",
              "</style>\n",
              "<table border=\"1\" class=\"dataframe\">\n",
              "  <thead>\n",
              "    <tr style=\"text-align: right;\">\n",
              "      <th></th>\n",
              "      <th>mean_fit_time</th>\n",
              "      <th>std_fit_time</th>\n",
              "      <th>mean_score_time</th>\n",
              "      <th>std_score_time</th>\n",
              "      <th>param_tree_model__max_depth</th>\n",
              "      <th>param_tree_model__ccp_alpha</th>\n",
              "      <th>params</th>\n",
              "      <th>split0_test_score</th>\n",
              "      <th>split1_test_score</th>\n",
              "      <th>split2_test_score</th>\n",
              "      <th>split3_test_score</th>\n",
              "      <th>split4_test_score</th>\n",
              "      <th>split5_test_score</th>\n",
              "      <th>split6_test_score</th>\n",
              "      <th>split7_test_score</th>\n",
              "      <th>split8_test_score</th>\n",
              "      <th>split9_test_score</th>\n",
              "      <th>mean_test_score</th>\n",
              "      <th>std_test_score</th>\n",
              "      <th>rank_test_score</th>\n",
              "    </tr>\n",
              "  </thead>\n",
              "  <tbody>\n",
              "    <tr>\n",
              "      <th>1</th>\n",
              "      <td>0.005713</td>\n",
              "      <td>0.000266</td>\n",
              "      <td>0.002535</td>\n",
              "      <td>0.000201</td>\n",
              "      <td>8</td>\n",
              "      <td>0</td>\n",
              "      <td>{'tree_model__max_depth': 8, 'tree_model__ccp_...</td>\n",
              "      <td>0.75</td>\n",
              "      <td>0.794118</td>\n",
              "      <td>0.776119</td>\n",
              "      <td>0.746269</td>\n",
              "      <td>0.791045</td>\n",
              "      <td>0.761194</td>\n",
              "      <td>0.761194</td>\n",
              "      <td>0.820896</td>\n",
              "      <td>0.641791</td>\n",
              "      <td>0.835821</td>\n",
              "      <td>0.767845</td>\n",
              "      <td>0.050492</td>\n",
              "      <td>1</td>\n",
              "    </tr>\n",
              "  </tbody>\n",
              "</table>\n",
              "</div>"
            ],
            "text/plain": [
              "   mean_fit_time  std_fit_time  ...  std_test_score  rank_test_score\n",
              "1       0.005713      0.000266  ...        0.050492                1\n",
              "\n",
              "[1 rows x 20 columns]"
            ]
          },
          "metadata": {
            "tags": []
          },
          "execution_count": 70
        }
      ]
    },
    {
      "cell_type": "code",
      "metadata": {
        "id": "46o5LdOMVH8Y"
      },
      "source": [
        "pipeline_randomForest = Pipeline(steps=[\n",
        "       ('preprocessor', preprocessor),\n",
        "       ('Forest_model', RandomForestClassifier(\n",
        "           n_estimators=50,min_samples_leaf=4,min_samples_split=2,\n",
        "           max_features='sqrt',max_depth=3\n",
        "       ))                                 \n",
        "])"
      ],
      "execution_count": 94,
      "outputs": []
    },
    {
      "cell_type": "code",
      "metadata": {
        "id": "l29Srk3fVnzV"
      },
      "source": [
        "pipeline_randomForest.fit(x_train, y_train)"
      ],
      "execution_count": null,
      "outputs": []
    },
    {
      "cell_type": "code",
      "metadata": {
        "id": "Tsqk57_gVx4J",
        "outputId": "c78405b8-148c-443b-8927-47aa996ac7cc",
        "colab": {
          "base_uri": "https://localhost:8080/"
        }
      },
      "source": [
        "print(accuracy_score(y_test,pipeline_randomForest.predict(x_test)))"
      ],
      "execution_count": 96,
      "outputs": [
        {
          "output_type": "stream",
          "text": [
            "0.8200692041522492\n"
          ],
          "name": "stdout"
        }
      ]
    },
    {
      "cell_type": "code",
      "metadata": {
        "id": "H3SxqkoVWgCT"
      },
      "source": [
        "## range of values for hyperparameters are considered\n",
        "max_depth=[3,7,8,9,10, 20, 30, 40, 50, 60, 70, 80, 90, 100]\n",
        "max_features= ['auto', 'sqrt']\n",
        "min_samples_leaf=[1, 2, 4]\n",
        "min_samples_split= [2, 5, 10]\n",
        "n_estimators=[50,100,200, 400, 600, 800, 1000, 1200, 1400, 1600, 1800, 2000]"
      ],
      "execution_count": 79,
      "outputs": []
    },
    {
      "cell_type": "code",
      "metadata": {
        "id": "1qf9HWu_Wj2h"
      },
      "source": [
        "param_grid = {'Forest_model__max_depth':max_depth,'Forest_model__max_features':max_features,\n",
        "              'Forest_model__min_samples_leaf':min_samples_leaf,'Forest_model__min_samples_split':min_samples_split,\n",
        "              'Forest_model__n_estimators':n_estimators}"
      ],
      "execution_count": 80,
      "outputs": []
    },
    {
      "cell_type": "code",
      "metadata": {
        "id": "nksBFpfvWsr6"
      },
      "source": [
        "rand = RandomizedSearchCV(pipeline_randomForest,param_distributions=param_grid,cv=10, n_iter=10,scoring='accuracy')\n",
        "rand.fit(x_train,y_train)"
      ],
      "execution_count": null,
      "outputs": []
    },
    {
      "cell_type": "code",
      "metadata": {
        "id": "RoV1daG8W96H",
        "outputId": "d579fdc5-012d-431f-deb7-bfec538b420e",
        "colab": {
          "base_uri": "https://localhost:8080/",
          "height": 117
        }
      },
      "source": [
        "rand_df = pd.DataFrame(rand.cv_results_)\n",
        "max_value =  rand_df.loc[(rand_df.mean_test_score == max(rand_df.mean_test_score))  ]\n",
        "max_value"
      ],
      "execution_count": 82,
      "outputs": [
        {
          "output_type": "execute_result",
          "data": {
            "text/html": [
              "<div>\n",
              "<style scoped>\n",
              "    .dataframe tbody tr th:only-of-type {\n",
              "        vertical-align: middle;\n",
              "    }\n",
              "\n",
              "    .dataframe tbody tr th {\n",
              "        vertical-align: top;\n",
              "    }\n",
              "\n",
              "    .dataframe thead th {\n",
              "        text-align: right;\n",
              "    }\n",
              "</style>\n",
              "<table border=\"1\" class=\"dataframe\">\n",
              "  <thead>\n",
              "    <tr style=\"text-align: right;\">\n",
              "      <th></th>\n",
              "      <th>mean_fit_time</th>\n",
              "      <th>std_fit_time</th>\n",
              "      <th>mean_score_time</th>\n",
              "      <th>std_score_time</th>\n",
              "      <th>param_Forest_model__n_estimators</th>\n",
              "      <th>param_Forest_model__min_samples_split</th>\n",
              "      <th>param_Forest_model__min_samples_leaf</th>\n",
              "      <th>param_Forest_model__max_features</th>\n",
              "      <th>param_Forest_model__max_depth</th>\n",
              "      <th>params</th>\n",
              "      <th>split0_test_score</th>\n",
              "      <th>split1_test_score</th>\n",
              "      <th>split2_test_score</th>\n",
              "      <th>split3_test_score</th>\n",
              "      <th>split4_test_score</th>\n",
              "      <th>split5_test_score</th>\n",
              "      <th>split6_test_score</th>\n",
              "      <th>split7_test_score</th>\n",
              "      <th>split8_test_score</th>\n",
              "      <th>split9_test_score</th>\n",
              "      <th>mean_test_score</th>\n",
              "      <th>std_test_score</th>\n",
              "      <th>rank_test_score</th>\n",
              "    </tr>\n",
              "  </thead>\n",
              "  <tbody>\n",
              "    <tr>\n",
              "      <th>3</th>\n",
              "      <td>0.138496</td>\n",
              "      <td>0.002584</td>\n",
              "      <td>0.010456</td>\n",
              "      <td>0.000451</td>\n",
              "      <td>100</td>\n",
              "      <td>2</td>\n",
              "      <td>4</td>\n",
              "      <td>sqrt</td>\n",
              "      <td>3</td>\n",
              "      <td>{'Forest_model__n_estimators': 100, 'Forest_mo...</td>\n",
              "      <td>0.779412</td>\n",
              "      <td>0.794118</td>\n",
              "      <td>0.835821</td>\n",
              "      <td>0.776119</td>\n",
              "      <td>0.820896</td>\n",
              "      <td>0.820896</td>\n",
              "      <td>0.746269</td>\n",
              "      <td>0.80597</td>\n",
              "      <td>0.701493</td>\n",
              "      <td>0.880597</td>\n",
              "      <td>0.796159</td>\n",
              "      <td>0.047074</td>\n",
              "      <td>1</td>\n",
              "    </tr>\n",
              "  </tbody>\n",
              "</table>\n",
              "</div>"
            ],
            "text/plain": [
              "   mean_fit_time  std_fit_time  ...  std_test_score  rank_test_score\n",
              "3       0.138496      0.002584  ...        0.047074                1\n",
              "\n",
              "[1 rows x 23 columns]"
            ]
          },
          "metadata": {
            "tags": []
          },
          "execution_count": 82
        }
      ]
    }
  ]
}