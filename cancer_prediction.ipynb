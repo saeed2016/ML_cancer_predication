{
  "nbformat": 4,
  "nbformat_minor": 0,
  "metadata": {
    "colab": {
      "name": "cancer_prediction.ipynb",
      "provenance": [],
      "collapsed_sections": [],
      "authorship_tag": "ABX9TyPBgbW/HfA7DFsFuwgzK1H9",
      "include_colab_link": true
    },
    "kernelspec": {
      "name": "python3",
      "display_name": "Python 3"
    }
  },
  "cells": [
    {
      "cell_type": "markdown",
      "metadata": {
        "id": "view-in-github",
        "colab_type": "text"
      },
      "source": [
        "<a href=\"https://colab.research.google.com/github/saeed2016/ML_cancer_predication/blob/master/cancer_prediction.ipynb\" target=\"_parent\"><img src=\"https://colab.research.google.com/assets/colab-badge.svg\" alt=\"Open In Colab\"/></a>"
      ]
    },
    {
      "cell_type": "code",
      "metadata": {
        "id": "ci_k3tYjBfo7"
      },
      "source": [
        "import pandas as pd \n",
        "import numpy as np\n",
        "import matplotlib.pyplot as plt\n",
        "from sklearn.model_selection import RandomizedSearchCV"
      ],
      "execution_count": 3,
      "outputs": []
    },
    {
      "cell_type": "code",
      "metadata": {
        "id": "WPQsupB2AXpU"
      },
      "source": [
        "from google.colab import files\n",
        "files.upload()"
      ],
      "execution_count": null,
      "outputs": []
    },
    {
      "cell_type": "code",
      "metadata": {
        "id": "DgaeLB3TBeW6",
        "outputId": "9af741ca-9f1c-4504-8cb7-835eb46e4ab6",
        "colab": {
          "base_uri": "https://localhost:8080/"
        }
      },
      "source": [
        "df = pd.read_csv('mammographic_masses.data',na_values=['?'],names = ['BI-RADS', 'age', 'shape', 'margin', 'density', 'Severity'] )\n",
        "df.isna().sum()"
      ],
      "execution_count": 4,
      "outputs": [
        {
          "output_type": "execute_result",
          "data": {
            "text/plain": [
              "BI-RADS      2\n",
              "age          5\n",
              "shape       31\n",
              "margin      48\n",
              "density     76\n",
              "Severity     0\n",
              "dtype: int64"
            ]
          },
          "metadata": {
            "tags": []
          },
          "execution_count": 4
        }
      ]
    },
    {
      "cell_type": "code",
      "metadata": {
        "id": "JjINBPK_zful",
        "outputId": "72252094-f781-4d04-bfb8-831f5cbae980",
        "colab": {
          "base_uri": "https://localhost:8080/",
          "height": 384
        }
      },
      "source": [
        "plt.hist(df.density)"
      ],
      "execution_count": 5,
      "outputs": [
        {
          "output_type": "stream",
          "text": [
            "/usr/local/lib/python3.6/dist-packages/numpy/lib/histograms.py:839: RuntimeWarning: invalid value encountered in greater_equal\n",
            "  keep = (tmp_a >= first_edge)\n",
            "/usr/local/lib/python3.6/dist-packages/numpy/lib/histograms.py:840: RuntimeWarning: invalid value encountered in less_equal\n",
            "  keep &= (tmp_a <= last_edge)\n"
          ],
          "name": "stderr"
        },
        {
          "output_type": "execute_result",
          "data": {
            "text/plain": [
              "(array([ 16.,   0.,   0.,  59.,   0.,   0., 798.,   0.,   0.,  12.]),\n",
              " array([1. , 1.3, 1.6, 1.9, 2.2, 2.5, 2.8, 3.1, 3.4, 3.7, 4. ]),\n",
              " <a list of 10 Patch objects>)"
            ]
          },
          "metadata": {
            "tags": []
          },
          "execution_count": 5
        },
        {
          "output_type": "display_data",
          "data": {
            "image/png": "[encoded data removed]",
            "text/plain": [
              "<Figure size 432x288 with 1 Axes>"
            ]
          },
          "metadata": {
            "tags": [],
            "needs_background": "light"
          }
        }
      ]
    },
    {
      "cell_type": "code",
      "metadata": {
        "id": "eI4BtcZ9NMd3"
      },
      "source": [
        "# df.loc[(df.BI_assessment=='?'),'BI_assessment'] = np.nan\n",
        "# df.loc[(df.Age=='?'),'Age'] = np.nan\n",
        "# df.loc[(df.Shape=='?'),'Shape'] = np.nan\n",
        "# df.loc[(df.Margin=='?'),'Margin'] = np.nan\n",
        "# df.loc[(df.Density=='?'),'Density'] = np.nan\n"
      ],
      "execution_count": null,
      "outputs": []
    },
    {
      "cell_type": "code",
      "metadata": {
        "id": "AEuZUYoEOZ1t",
        "outputId": "9ff7c42a-4a32-4c11-ffb4-d3830bd31795",
        "colab": {
          "base_uri": "https://localhost:8080/"
        }
      },
      "source": [
        "df.isna().sum()"
      ],
      "execution_count": 6,
      "outputs": [
        {
          "output_type": "execute_result",
          "data": {
            "text/plain": [
              "BI-RADS      2\n",
              "age          5\n",
              "shape       31\n",
              "margin      48\n",
              "density     76\n",
              "Severity     0\n",
              "dtype: int64"
            ]
          },
          "metadata": {
            "tags": []
          },
          "execution_count": 6
        }
      ]
    },
    {
      "cell_type": "code",
      "metadata": {
        "id": "VuHZgiTRPuCf"
      },
      "source": [
        "from sklearn.pipeline import Pipeline\n",
        "from sklearn.preprocessing import StandardScaler"
      ],
      "execution_count": 12,
      "outputs": []
    },
    {
      "cell_type": "code",
      "metadata": {
        "id": "QbvkQJunQaxd"
      },
      "source": [
        " x = df.drop(['Severity','BI-RADS'], axis=1)\n",
        " y = df['Severity']"
      ],
      "execution_count": 13,
      "outputs": []
    },
    {
      "cell_type": "code",
      "metadata": {
        "id": "hiiJjncUfCHq",
        "outputId": "ba385dd8-8959-47c5-d1c8-80152d40e40b",
        "colab": {
          "base_uri": "https://localhost:8080/"
        }
      },
      "source": [
        "x['age'] = pd.to_numeric(x.age)\n",
        "age_mean = x.age.mean()\n",
        "x['age'].fillna(age_mean, inplace=True)\n",
        "x.isna().sum()"
      ],
      "execution_count": 55,
      "outputs": [
        {
          "output_type": "execute_result",
          "data": {
            "text/plain": [
              "age         0\n",
              "shape      31\n",
              "margin     48\n",
              "density    76\n",
              "dtype: int64"
            ]
          },
          "metadata": {
            "tags": []
          },
          "execution_count": 55
        }
      ]
    },
    {
      "cell_type": "code",
      "metadata": {
        "id": "f1qyrpcyRBzg",
        "outputId": "7c62b70d-3183-43be-9db4-dcd2dacc3665",
        "colab": {
          "base_uri": "https://localhost:8080/"
        }
      },
      "source": [
        "x.dtypes"
      ],
      "execution_count": 56,
      "outputs": [
        {
          "output_type": "execute_result",
          "data": {
            "text/plain": [
              "age        float64\n",
              "shape      float64\n",
              "margin     float64\n",
              "density    float64\n",
              "dtype: object"
            ]
          },
          "metadata": {
            "tags": []
          },
          "execution_count": 56
        }
      ]
    },
    {
      "cell_type": "code",
      "metadata": {
        "id": "HbE_JRJXhQu1"
      },
      "source": [
        "from sklearn.impute import  SimpleImputer\n",
        "numerical_imputer = SimpleImputer(strategy='mean')\n",
        "categorial_imputer = SimpleImputer(strategy='most_frequent')"
      ],
      "execution_count": 16,
      "outputs": []
    },
    {
      "cell_type": "code",
      "metadata": {
        "id": "yqwOD8WBidD1"
      },
      "source": [
        "numerical_transformer = Pipeline(steps=[\n",
        "            ('imputer', numerical_imputer),\n",
        "            ('scaler', StandardScaler())])\n",
        "categorial_transformer = Pipeline(steps=[\n",
        "    ('imputer', categorial_imputer)                                     \n",
        "])"
      ],
      "execution_count": 48,
      "outputs": []
    },
    {
      "cell_type": "code",
      "metadata": {
        "id": "E6CW8H-Tjfrk"
      },
      "source": [
        "from sklearn.compose import ColumnTransformer\n",
        "from sklearn.model_selection import train_test_split\n",
        "from sklearn.tree import DecisionTreeClassifier\n",
        "from sklearn.metrics import confusion_matrix,accuracy_score,f1_score\n",
        "from sklearn.ensemble import RandomForestClassifier"
      ],
      "execution_count": 74,
      "outputs": []
    },
    {
      "cell_type": "code",
      "metadata": {
        "id": "YrWnJ5iDnk4g"
      },
      "source": [
        "x_train, x_test , y_train, y_test = train_test_split(x,y,test_size= 0.30, random_state=42)"
      ],
      "execution_count": 50,
      "outputs": []
    },
    {
      "cell_type": "code",
      "metadata": {
        "id": "_OGWVnIErUMn"
      },
      "source": [
        "numerical_cols = x_train.select_dtypes(include='float64').columns\n",
        "preprocessor = ColumnTransformer(\n",
        "    transformers = [\n",
        "       ('numeric', numerical_transformer,numerical_cols)             \n",
        "    ]\n",
        ")\n"
      ],
      "execution_count": 60,
      "outputs": []
    },
    {
      "cell_type": "code",
      "metadata": {
        "id": "A2u4M1dSsuO_"
      },
      "source": [
        "pipeline_tree = Pipeline(steps=[\n",
        "              ('preprocessor', preprocessor),\n",
        "              ('tree_model', DecisionTreeClassifier(max_depth=8, ccp_alpha=0))                  \n",
        "])"
      ],
      "execution_count": 71,
      "outputs": []
    },
    {
      "cell_type": "code",
      "metadata": {
        "id": "QCLMsLU8tGPd"
      },
      "source": [
        "pipeline_tree.fit(x_train,y_train)"
      ],
      "execution_count": null,
      "outputs": []
    },
    {
      "cell_type": "code",
      "metadata": {
        "id": "L78wXQ3FtV70",
        "outputId": "47dfba3d-bde3-44e3-d1a9-64e3f125da56",
        "colab": {
          "base_uri": "https://localhost:8080/"
        }
      },
      "source": [
        "print(accuracy_score(y_test,pipeline_tree.predict(x_test)))"
      ],
      "execution_count": 73,
      "outputs": [
        {
          "output_type": "stream",
          "text": [
            "0.7647058823529411\n"
          ],
          "name": "stdout"
        }
      ]
    },
    {
      "cell_type": "code",
      "metadata": {
        "id": "ukNiTjy2R-nQ"
      },
      "source": [
        "ccp_alpha = [i for i in np.arange(0.00,0.30,0.01)]\n",
        "max_depth_range = range(1,11)\n",
        "param_grid = {'tree_model__ccp_alpha':ccp_alpha,'tree_model__max_depth':max_depth_range}"
      ],
      "execution_count": 66,
      "outputs": []
    },
    {
      "cell_type": "code",
      "metadata": {
        "id": "cDlpM1g5S2_4"
      },
      "source": [
        "rand = RandomizedSearchCV(pipeline_tree,param_distributions=param_grid,cv=10,n_iter=10,scoring='accuracy')\n",
        "rand.fit(x_train, y_train)"
      ],
      "execution_count": null,
      "outputs": []
    },
    {
      "cell_type": "code",
      "metadata": {
        "id": "1QUU_LtjTIbZ",
        "outputId": "0412e10b-b94d-4169-ecdd-72d06c5f3413",
        "colab": {
          "base_uri": "https://localhost:8080/",
          "height": 117
        }
      },
      "source": [
        "rand_df = pd.DataFrame(rand.cv_results_)\n",
        "max_value = rand_df.loc[(rand_df.mean_test_score== max(rand_df.mean_test_score))]\n",
        "max_value"
      ],
      "execution_count": 70,
      "outputs": [
        {
          "output_type": "execute_result",
          "data": {
            "text/html": [
              "<div>\n",
              "<style scoped>\n",
              "    .dataframe tbody tr th:only-of-type {\n",
              "        vertical-align: middle;\n",
              "    }\n",
              "\n",
              "    .dataframe tbody tr th {\n",
              "        vertical-align: top;\n",
              "    }\n",
              "\n",
              "    .dataframe thead th {\n",
              "        text-align: right;\n",
              "    }\n",
              "</style>\n",
              "<table border=\"1\" class=\"dataframe\">\n",
              "  <thead>\n",
              "    <tr style=\"text-align: right;\">\n",
              "      <th></th>\n",
              "      <th>mean_fit_time</th>\n",
              "      <th>std_fit_time</th>\n",
              "      <th>mean_score_time</th>\n",
              "      <th>std_score_time</th>\n",
              "      <th>param_tree_model__max_depth</th>\n",
              "      <th>param_tree_model__ccp_alpha</th>\n",
              "      <th>params</th>\n",
              "      <th>split0_test_score</th>\n",
              "      <th>split1_test_score</th>\n",
              "      <th>split2_test_score</th>\n",
              "      <th>split3_test_score</th>\n",
              "      <th>split4_test_score</th>\n",
              "      <th>split5_test_score</th>\n",
              "      <th>split6_test_score</th>\n",
              "      <th>split7_test_score</th>\n",
              "      <th>split8_test_score</th>\n",
              "      <th>split9_test_score</th>\n",
              "      <th>mean_test_score</th>\n",
              "      <th>std_test_score</th>\n",
              "      <th>rank_test_score</th>\n",
              "    </tr>\n",
              "  </thead>\n",
              "  <tbody>\n",
              "    <tr>\n",
              "      <th>1</th>\n",
              "      <td>0.005713</td>\n",
              "      <td>0.000266</td>\n",
              "      <td>0.002535</td>\n",
              "      <td>0.000201</td>\n",
              "      <td>8</td>\n",
              "      <td>0</td>\n",
              "      <td>{'tree_model__max_depth': 8, 'tree_model__ccp_...</td>\n",
              "      <td>0.75</td>\n",
              "      <td>0.794118</td>\n",
              "      <td>0.776119</td>\n",
              "      <td>0.746269</td>\n",
              "      <td>0.791045</td>\n",
              "      <td>0.761194</td>\n",
              "      <td>0.761194</td>\n",
              "      <td>0.820896</td>\n",
              "      <td>0.641791</td>\n",
              "      <td>0.835821</td>\n",
              "      <td>0.767845</td>\n",
              "      <td>0.050492</td>\n",
              "      <td>1</td>\n",
              "    </tr>\n",
              "  </tbody>\n",
              "</table>\n",
              "</div>"
            ],
            "text/plain": [
              "   mean_fit_time  std_fit_time  ...  std_test_score  rank_test_score\n",
              "1       0.005713      0.000266  ...        0.050492                1\n",
              "\n",
              "[1 rows x 20 columns]"
            ]
          },
          "metadata": {
            "tags": []
          },
          "execution_count": 70
        }
      ]
    },
    {
      "cell_type": "code",
      "metadata": {
        "id": "46o5LdOMVH8Y"
      },
      "source": [
        "pipeline_randomForest = Pipeline(steps=[\n",
        "       ('preprocessor', preprocessor),\n",
        "       ('Forest_model', RandomForestClassifier(\n",
        "           n_estimators=50,min_samples_leaf=4,min_samples_split=2,\n",
        "           max_features='sqrt',max_depth=3\n",
        "       ))                                 \n",
        "])"
      ],
      "execution_count": 103,
      "outputs": []
    },
    {
      "cell_type": "code",
      "metadata": {
        "id": "l29Srk3fVnzV"
      },
      "source": [
        "pipeline_randomForest.fit(x_train, y_train)"
      ],
      "execution_count": null,
      "outputs": []
    },
    {
      "cell_type": "code",
      "metadata": {
        "id": "Tsqk57_gVx4J",
        "outputId": "75a9c071-6275-4d70-9bee-e1d3629cb86f",
        "colab": {
          "base_uri": "https://localhost:8080/"
        }
      },
      "source": [
        "print(accuracy_score(y_test,pipeline_randomForest.predict(x_test)))"
      ],
      "execution_count": 105,
      "outputs": [
        {
          "output_type": "stream",
          "text": [
            "0.8235294117647058\n"
          ],
          "name": "stdout"
        }
      ]
    },
    {
      "cell_type": "code",
      "metadata": {
        "id": "H3SxqkoVWgCT"
      },
      "source": [
        "## range of values for hyperparameters are considered\n",
        "max_depth=[3,7,8,9,10, 20, 30, 40, 50, 60, 70, 80, 90, 100]\n",
        "max_features= ['auto', 'sqrt']\n",
        "min_samples_leaf=[1, 2, 4]\n",
        "min_samples_split= [2, 5, 10]\n",
        "n_estimators=[50,100,200, 400, 600, 800, 1000, 1200, 1400, 1600, 1800, 2000]"
      ],
      "execution_count": 79,
      "outputs": []
    },
    {
      "cell_type": "code",
      "metadata": {
        "id": "1qf9HWu_Wj2h"
      },
      "source": [
        "param_grid = {'Forest_model__max_depth':max_depth,'Forest_model__max_features':max_features,\n",
        "              'Forest_model__min_samples_leaf':min_samples_leaf,'Forest_model__min_samples_split':min_samples_split,\n",
        "              'Forest_model__n_estimators':n_estimators}"
      ],
      "execution_count": 80,
      "outputs": []
    },
    {
      "cell_type": "code",
      "metadata": {
        "id": "nksBFpfvWsr6"
      },
      "source": [
        "rand = RandomizedSearchCV(pipeline_randomForest,param_distributions=param_grid,cv=10, n_iter=10,scoring='accuracy')\n",
        "rand.fit(x_train,y_train)"
      ],
      "execution_count": null,
      "outputs": []
    },
    {
      "cell_type": "code",
      "metadata": {
        "id": "RoV1daG8W96H",
        "outputId": "d579fdc5-012d-431f-deb7-bfec538b420e",
        "colab": {
          "base_uri": "https://localhost:8080/",
          "height": 117
        }
      },
      "source": [
        "rand_df = pd.DataFrame(rand.cv_results_)\n",
        "max_value =  rand_df.loc[(rand_df.mean_test_score == max(rand_df.mean_test_score))  ]\n",
        "max_value"
      ],
      "execution_count": 82,
      "outputs": [
        {
          "output_type": "execute_result",
          "data": {
            "text/html": [
              "<div>\n",
              "<style scoped>\n",
              "    .dataframe tbody tr th:only-of-type {\n",
              "        vertical-align: middle;\n",
              "    }\n",
              "\n",
              "    .dataframe tbody tr th {\n",
              "        vertical-align: top;\n",
              "    }\n",
              "\n",
              "    .dataframe thead th {\n",
              "        text-align: right;\n",
              "    }\n",
              "</style>\n",
              "<table border=\"1\" class=\"dataframe\">\n",
              "  <thead>\n",
              "    <tr style=\"text-align: right;\">\n",
              "      <th></th>\n",
              "      <th>mean_fit_time</th>\n",
              "      <th>std_fit_time</th>\n",
              "      <th>mean_score_time</th>\n",
              "      <th>std_score_time</th>\n",
              "      <th>param_Forest_model__n_estimators</th>\n",
              "      <th>param_Forest_model__min_samples_split</th>\n",
              "      <th>param_Forest_model__min_samples_leaf</th>\n",
              "      <th>param_Forest_model__max_features</th>\n",
              "      <th>param_Forest_model__max_depth</th>\n",
              "      <th>params</th>\n",
              "      <th>split0_test_score</th>\n",
              "      <th>split1_test_score</th>\n",
              "      <th>split2_test_score</th>\n",
              "      <th>split3_test_score</th>\n",
              "      <th>split4_test_score</th>\n",
              "      <th>split5_test_score</th>\n",
              "      <th>split6_test_score</th>\n",
              "      <th>split7_test_score</th>\n",
              "      <th>split8_test_score</th>\n",
              "      <th>split9_test_score</th>\n",
              "      <th>mean_test_score</th>\n",
              "      <th>std_test_score</th>\n",
              "      <th>rank_test_score</th>\n",
              "    </tr>\n",
              "  </thead>\n",
              "  <tbody>\n",
              "    <tr>\n",
              "      <th>3</th>\n",
              "      <td>0.138496</td>\n",
              "      <td>0.002584</td>\n",
              "      <td>0.010456</td>\n",
              "      <td>0.000451</td>\n",
              "      <td>100</td>\n",
              "      <td>2</td>\n",
              "      <td>4</td>\n",
              "      <td>sqrt</td>\n",
              "      <td>3</td>\n",
              "      <td>{'Forest_model__n_estimators': 100, 'Forest_mo...</td>\n",
              "      <td>0.779412</td>\n",
              "      <td>0.794118</td>\n",
              "      <td>0.835821</td>\n",
              "      <td>0.776119</td>\n",
              "      <td>0.820896</td>\n",
              "      <td>0.820896</td>\n",
              "      <td>0.746269</td>\n",
              "      <td>0.80597</td>\n",
              "      <td>0.701493</td>\n",
              "      <td>0.880597</td>\n",
              "      <td>0.796159</td>\n",
              "      <td>0.047074</td>\n",
              "      <td>1</td>\n",
              "    </tr>\n",
              "  </tbody>\n",
              "</table>\n",
              "</div>"
            ],
            "text/plain": [
              "   mean_fit_time  std_fit_time  ...  std_test_score  rank_test_score\n",
              "3       0.138496      0.002584  ...        0.047074                1\n",
              "\n",
              "[1 rows x 23 columns]"
            ]
          },
          "metadata": {
            "tags": []
          },
          "execution_count": 82
        }
      ]
    }
  ]
}